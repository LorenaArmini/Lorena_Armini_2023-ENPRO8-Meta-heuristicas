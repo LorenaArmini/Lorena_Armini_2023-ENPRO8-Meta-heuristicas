{
  "nbformat": 4,
  "nbformat_minor": 0,
  "metadata": {
    "colab": {
      "provenance": []
    },
    "kernelspec": {
      "name": "python3",
      "display_name": "Python 3"
    },
    "language_info": {
      "name": "python"
    }
  },
  "cells": [
    {
      "cell_type": "markdown",
      "source": [
        "**Lista 3**"
      ],
      "metadata": {
        "id": "0Qw8eT3kMfEB"
      }
    },
    {
      "cell_type": "markdown",
      "source": [
        "Exercício 1"
      ],
      "metadata": {
        "id": "gNIsAHu0Mi_p"
      }
    },
    {
      "cell_type": "code",
      "execution_count": null,
      "metadata": {
        "id": "fy1TT6q_MQqa",
        "colab": {
          "base_uri": "https://localhost:8080/"
        },
        "outputId": "f9575ed5-864d-487c-a755-2fcfbb6bd9d5"
      },
      "outputs": [
        {
          "output_type": "stream",
          "name": "stdout",
          "text": [
            "3\n",
            "6\n",
            "9\n",
            "12\n",
            "15\n"
          ]
        }
      ],
      "source": [
        "y=1\n",
        "for n in range(1,20,1):\n",
        "    if(y<=5):\n",
        "        if (n%3==0):\n",
        "            print(n)\n",
        "            y+=1"
      ]
    },
    {
      "cell_type": "markdown",
      "metadata": {
        "id": "2PhaCag9SW5Z"
      },
      "source": [
        "Exercício 2 (Estrutura de repetição for)"
      ]
    },
    {
      "cell_type": "code",
      "source": [
        "for i in range(3):\n",
        "\tfor n in range(1,101,1):\n",
        "\t\tprint(n)"
      ],
      "metadata": {
        "id": "5sLfRx9JSJNS",
        "colab": {
          "base_uri": "https://localhost:8080/"
        },
        "outputId": "75cf550e-290b-4196-fe5f-117476715fc3"
      },
      "execution_count": 42,
      "outputs": [
        {
          "output_type": "stream",
          "name": "stdout",
          "text": [
            "1\n",
            "2\n",
            "3\n",
            "4\n",
            "5\n",
            "6\n",
            "7\n",
            "8\n",
            "9\n",
            "10\n",
            "11\n",
            "12\n",
            "13\n",
            "14\n",
            "15\n",
            "16\n",
            "17\n",
            "18\n",
            "19\n",
            "20\n",
            "21\n",
            "22\n",
            "23\n",
            "24\n",
            "25\n",
            "26\n",
            "27\n",
            "28\n",
            "29\n",
            "30\n",
            "31\n",
            "32\n",
            "33\n",
            "34\n",
            "35\n",
            "36\n",
            "37\n",
            "38\n",
            "39\n",
            "40\n",
            "41\n",
            "42\n",
            "43\n",
            "44\n",
            "45\n",
            "46\n",
            "47\n",
            "48\n",
            "49\n",
            "50\n",
            "51\n",
            "52\n",
            "53\n",
            "54\n",
            "55\n",
            "56\n",
            "57\n",
            "58\n",
            "59\n",
            "60\n",
            "61\n",
            "62\n",
            "63\n",
            "64\n",
            "65\n",
            "66\n",
            "67\n",
            "68\n",
            "69\n",
            "70\n",
            "71\n",
            "72\n",
            "73\n",
            "74\n",
            "75\n",
            "76\n",
            "77\n",
            "78\n",
            "79\n",
            "80\n",
            "81\n",
            "82\n",
            "83\n",
            "84\n",
            "85\n",
            "86\n",
            "87\n",
            "88\n",
            "89\n",
            "90\n",
            "91\n",
            "92\n",
            "93\n",
            "94\n",
            "95\n",
            "96\n",
            "97\n",
            "98\n",
            "99\n",
            "100\n",
            "1\n",
            "2\n",
            "3\n",
            "4\n",
            "5\n",
            "6\n",
            "7\n",
            "8\n",
            "9\n",
            "10\n",
            "11\n",
            "12\n",
            "13\n",
            "14\n",
            "15\n",
            "16\n",
            "17\n",
            "18\n",
            "19\n",
            "20\n",
            "21\n",
            "22\n",
            "23\n",
            "24\n",
            "25\n",
            "26\n",
            "27\n",
            "28\n",
            "29\n",
            "30\n",
            "31\n",
            "32\n",
            "33\n",
            "34\n",
            "35\n",
            "36\n",
            "37\n",
            "38\n",
            "39\n",
            "40\n",
            "41\n",
            "42\n",
            "43\n",
            "44\n",
            "45\n",
            "46\n",
            "47\n",
            "48\n",
            "49\n",
            "50\n",
            "51\n",
            "52\n",
            "53\n",
            "54\n",
            "55\n",
            "56\n",
            "57\n",
            "58\n",
            "59\n",
            "60\n",
            "61\n",
            "62\n",
            "63\n",
            "64\n",
            "65\n",
            "66\n",
            "67\n",
            "68\n",
            "69\n",
            "70\n",
            "71\n",
            "72\n",
            "73\n",
            "74\n",
            "75\n",
            "76\n",
            "77\n",
            "78\n",
            "79\n",
            "80\n",
            "81\n",
            "82\n",
            "83\n",
            "84\n",
            "85\n",
            "86\n",
            "87\n",
            "88\n",
            "89\n",
            "90\n",
            "91\n",
            "92\n",
            "93\n",
            "94\n",
            "95\n",
            "96\n",
            "97\n",
            "98\n",
            "99\n",
            "100\n",
            "1\n",
            "2\n",
            "3\n",
            "4\n",
            "5\n",
            "6\n",
            "7\n",
            "8\n",
            "9\n",
            "10\n",
            "11\n",
            "12\n",
            "13\n",
            "14\n",
            "15\n",
            "16\n",
            "17\n",
            "18\n",
            "19\n",
            "20\n",
            "21\n",
            "22\n",
            "23\n",
            "24\n",
            "25\n",
            "26\n",
            "27\n",
            "28\n",
            "29\n",
            "30\n",
            "31\n",
            "32\n",
            "33\n",
            "34\n",
            "35\n",
            "36\n",
            "37\n",
            "38\n",
            "39\n",
            "40\n",
            "41\n",
            "42\n",
            "43\n",
            "44\n",
            "45\n",
            "46\n",
            "47\n",
            "48\n",
            "49\n",
            "50\n",
            "51\n",
            "52\n",
            "53\n",
            "54\n",
            "55\n",
            "56\n",
            "57\n",
            "58\n",
            "59\n",
            "60\n",
            "61\n",
            "62\n",
            "63\n",
            "64\n",
            "65\n",
            "66\n",
            "67\n",
            "68\n",
            "69\n",
            "70\n",
            "71\n",
            "72\n",
            "73\n",
            "74\n",
            "75\n",
            "76\n",
            "77\n",
            "78\n",
            "79\n",
            "80\n",
            "81\n",
            "82\n",
            "83\n",
            "84\n",
            "85\n",
            "86\n",
            "87\n",
            "88\n",
            "89\n",
            "90\n",
            "91\n",
            "92\n",
            "93\n",
            "94\n",
            "95\n",
            "96\n",
            "97\n",
            "98\n",
            "99\n",
            "100\n"
          ]
        }
      ]
    },
    {
      "cell_type": "markdown",
      "source": [
        "Exercício 2 (Estrutura de repetição while)"
      ],
      "metadata": {
        "id": "ZkM73SP0Sv1K"
      }
    },
    {
      "cell_type": "code",
      "source": [
        "x=0\n",
        "while (x<=3):\n",
        "    y=1\n",
        "    while(y<=100):\n",
        "        print(y)\n",
        "        y+=1\n",
        "    x+=1"
      ],
      "metadata": {
        "id": "FD7UEgbeS4Az",
        "colab": {
          "base_uri": "https://localhost:8080/"
        },
        "outputId": "3fda8ec3-62b8-4c03-caf2-f7b50a0238fc"
      },
      "execution_count": 43,
      "outputs": [
        {
          "output_type": "stream",
          "name": "stdout",
          "text": [
            "1\n",
            "2\n",
            "3\n",
            "4\n",
            "5\n",
            "6\n",
            "7\n",
            "8\n",
            "9\n",
            "10\n",
            "11\n",
            "12\n",
            "13\n",
            "14\n",
            "15\n",
            "16\n",
            "17\n",
            "18\n",
            "19\n",
            "20\n",
            "21\n",
            "22\n",
            "23\n",
            "24\n",
            "25\n",
            "26\n",
            "27\n",
            "28\n",
            "29\n",
            "30\n",
            "31\n",
            "32\n",
            "33\n",
            "34\n",
            "35\n",
            "36\n",
            "37\n",
            "38\n",
            "39\n",
            "40\n",
            "41\n",
            "42\n",
            "43\n",
            "44\n",
            "45\n",
            "46\n",
            "47\n",
            "48\n",
            "49\n",
            "50\n",
            "51\n",
            "52\n",
            "53\n",
            "54\n",
            "55\n",
            "56\n",
            "57\n",
            "58\n",
            "59\n",
            "60\n",
            "61\n",
            "62\n",
            "63\n",
            "64\n",
            "65\n",
            "66\n",
            "67\n",
            "68\n",
            "69\n",
            "70\n",
            "71\n",
            "72\n",
            "73\n",
            "74\n",
            "75\n",
            "76\n",
            "77\n",
            "78\n",
            "79\n",
            "80\n",
            "81\n",
            "82\n",
            "83\n",
            "84\n",
            "85\n",
            "86\n",
            "87\n",
            "88\n",
            "89\n",
            "90\n",
            "91\n",
            "92\n",
            "93\n",
            "94\n",
            "95\n",
            "96\n",
            "97\n",
            "98\n",
            "99\n",
            "100\n",
            "1\n",
            "2\n",
            "3\n",
            "4\n",
            "5\n",
            "6\n",
            "7\n",
            "8\n",
            "9\n",
            "10\n",
            "11\n",
            "12\n",
            "13\n",
            "14\n",
            "15\n",
            "16\n",
            "17\n",
            "18\n",
            "19\n",
            "20\n",
            "21\n",
            "22\n",
            "23\n",
            "24\n",
            "25\n",
            "26\n",
            "27\n",
            "28\n",
            "29\n",
            "30\n",
            "31\n",
            "32\n",
            "33\n",
            "34\n",
            "35\n",
            "36\n",
            "37\n",
            "38\n",
            "39\n",
            "40\n",
            "41\n",
            "42\n",
            "43\n",
            "44\n",
            "45\n",
            "46\n",
            "47\n",
            "48\n",
            "49\n",
            "50\n",
            "51\n",
            "52\n",
            "53\n",
            "54\n",
            "55\n",
            "56\n",
            "57\n",
            "58\n",
            "59\n",
            "60\n",
            "61\n",
            "62\n",
            "63\n",
            "64\n",
            "65\n",
            "66\n",
            "67\n",
            "68\n",
            "69\n",
            "70\n",
            "71\n",
            "72\n",
            "73\n",
            "74\n",
            "75\n",
            "76\n",
            "77\n",
            "78\n",
            "79\n",
            "80\n",
            "81\n",
            "82\n",
            "83\n",
            "84\n",
            "85\n",
            "86\n",
            "87\n",
            "88\n",
            "89\n",
            "90\n",
            "91\n",
            "92\n",
            "93\n",
            "94\n",
            "95\n",
            "96\n",
            "97\n",
            "98\n",
            "99\n",
            "100\n",
            "1\n",
            "2\n",
            "3\n",
            "4\n",
            "5\n",
            "6\n",
            "7\n",
            "8\n",
            "9\n",
            "10\n",
            "11\n",
            "12\n",
            "13\n",
            "14\n",
            "15\n",
            "16\n",
            "17\n",
            "18\n",
            "19\n",
            "20\n",
            "21\n",
            "22\n",
            "23\n",
            "24\n",
            "25\n",
            "26\n",
            "27\n",
            "28\n",
            "29\n",
            "30\n",
            "31\n",
            "32\n",
            "33\n",
            "34\n",
            "35\n",
            "36\n",
            "37\n",
            "38\n",
            "39\n",
            "40\n",
            "41\n",
            "42\n",
            "43\n",
            "44\n",
            "45\n",
            "46\n",
            "47\n",
            "48\n",
            "49\n",
            "50\n",
            "51\n",
            "52\n",
            "53\n",
            "54\n",
            "55\n",
            "56\n",
            "57\n",
            "58\n",
            "59\n",
            "60\n",
            "61\n",
            "62\n",
            "63\n",
            "64\n",
            "65\n",
            "66\n",
            "67\n",
            "68\n",
            "69\n",
            "70\n",
            "71\n",
            "72\n",
            "73\n",
            "74\n",
            "75\n",
            "76\n",
            "77\n",
            "78\n",
            "79\n",
            "80\n",
            "81\n",
            "82\n",
            "83\n",
            "84\n",
            "85\n",
            "86\n",
            "87\n",
            "88\n",
            "89\n",
            "90\n",
            "91\n",
            "92\n",
            "93\n",
            "94\n",
            "95\n",
            "96\n",
            "97\n",
            "98\n",
            "99\n",
            "100\n",
            "1\n",
            "2\n",
            "3\n",
            "4\n",
            "5\n",
            "6\n",
            "7\n",
            "8\n",
            "9\n",
            "10\n",
            "11\n",
            "12\n",
            "13\n",
            "14\n",
            "15\n",
            "16\n",
            "17\n",
            "18\n",
            "19\n",
            "20\n",
            "21\n",
            "22\n",
            "23\n",
            "24\n",
            "25\n",
            "26\n",
            "27\n",
            "28\n",
            "29\n",
            "30\n",
            "31\n",
            "32\n",
            "33\n",
            "34\n",
            "35\n",
            "36\n",
            "37\n",
            "38\n",
            "39\n",
            "40\n",
            "41\n",
            "42\n",
            "43\n",
            "44\n",
            "45\n",
            "46\n",
            "47\n",
            "48\n",
            "49\n",
            "50\n",
            "51\n",
            "52\n",
            "53\n",
            "54\n",
            "55\n",
            "56\n",
            "57\n",
            "58\n",
            "59\n",
            "60\n",
            "61\n",
            "62\n",
            "63\n",
            "64\n",
            "65\n",
            "66\n",
            "67\n",
            "68\n",
            "69\n",
            "70\n",
            "71\n",
            "72\n",
            "73\n",
            "74\n",
            "75\n",
            "76\n",
            "77\n",
            "78\n",
            "79\n",
            "80\n",
            "81\n",
            "82\n",
            "83\n",
            "84\n",
            "85\n",
            "86\n",
            "87\n",
            "88\n",
            "89\n",
            "90\n",
            "91\n",
            "92\n",
            "93\n",
            "94\n",
            "95\n",
            "96\n",
            "97\n",
            "98\n",
            "99\n",
            "100\n"
          ]
        }
      ]
    },
    {
      "cell_type": "markdown",
      "source": [
        "Exercício 3"
      ],
      "metadata": {
        "id": "Q6WwKOArS6fB"
      }
    },
    {
      "cell_type": "code",
      "source": [
        "x=10\n",
        "while(x>=0):\n",
        "    print(x)\n",
        "    x-=1\n",
        "print(\"FIM!\")"
      ],
      "metadata": {
        "id": "16HWIa0vTB8R",
        "colab": {
          "base_uri": "https://localhost:8080/"
        },
        "outputId": "68ffc7f4-3c3f-468e-fa29-152eda668fac"
      },
      "execution_count": 44,
      "outputs": [
        {
          "output_type": "stream",
          "name": "stdout",
          "text": [
            "10\n",
            "9\n",
            "8\n",
            "7\n",
            "6\n",
            "5\n",
            "4\n",
            "3\n",
            "2\n",
            "1\n",
            "0\n",
            "FIM!\n"
          ]
        }
      ]
    },
    {
      "cell_type": "markdown",
      "source": [
        "Exercício 4"
      ],
      "metadata": {
        "id": "CEy2NP74TSO5"
      }
    },
    {
      "cell_type": "code",
      "source": [
        "x = int(0)\n",
        "for x in range(x,100000+1000,1000):\n",
        "    print(x)"
      ],
      "metadata": {
        "id": "5jAOg1XSTSAI",
        "colab": {
          "base_uri": "https://localhost:8080/"
        },
        "outputId": "dd8d5b20-c997-4399-ab8c-f9f96e3bce71"
      },
      "execution_count": 45,
      "outputs": [
        {
          "output_type": "stream",
          "name": "stdout",
          "text": [
            "0\n",
            "1000\n",
            "2000\n",
            "3000\n",
            "4000\n",
            "5000\n",
            "6000\n",
            "7000\n",
            "8000\n",
            "9000\n",
            "10000\n",
            "11000\n",
            "12000\n",
            "13000\n",
            "14000\n",
            "15000\n",
            "16000\n",
            "17000\n",
            "18000\n",
            "19000\n",
            "20000\n",
            "21000\n",
            "22000\n",
            "23000\n",
            "24000\n",
            "25000\n",
            "26000\n",
            "27000\n",
            "28000\n",
            "29000\n",
            "30000\n",
            "31000\n",
            "32000\n",
            "33000\n",
            "34000\n",
            "35000\n",
            "36000\n",
            "37000\n",
            "38000\n",
            "39000\n",
            "40000\n",
            "41000\n",
            "42000\n",
            "43000\n",
            "44000\n",
            "45000\n",
            "46000\n",
            "47000\n",
            "48000\n",
            "49000\n",
            "50000\n",
            "51000\n",
            "52000\n",
            "53000\n",
            "54000\n",
            "55000\n",
            "56000\n",
            "57000\n",
            "58000\n",
            "59000\n",
            "60000\n",
            "61000\n",
            "62000\n",
            "63000\n",
            "64000\n",
            "65000\n",
            "66000\n",
            "67000\n",
            "68000\n",
            "69000\n",
            "70000\n",
            "71000\n",
            "72000\n",
            "73000\n",
            "74000\n",
            "75000\n",
            "76000\n",
            "77000\n",
            "78000\n",
            "79000\n",
            "80000\n",
            "81000\n",
            "82000\n",
            "83000\n",
            "84000\n",
            "85000\n",
            "86000\n",
            "87000\n",
            "88000\n",
            "89000\n",
            "90000\n",
            "91000\n",
            "92000\n",
            "93000\n",
            "94000\n",
            "95000\n",
            "96000\n",
            "97000\n",
            "98000\n",
            "99000\n",
            "100000\n"
          ]
        }
      ]
    },
    {
      "cell_type": "markdown",
      "source": [
        "Exercício 5"
      ],
      "metadata": {
        "id": "VGOS_SpKTY5A"
      }
    },
    {
      "cell_type": "code",
      "source": [
        "soma = 0\n",
        "for n in range(0,10,1):\n",
        "    x = float(input(\"Digite um valor:\"))\n",
        "    soma = x + soma\n",
        "print(\"Valor da soma: \",soma)"
      ],
      "metadata": {
        "id": "cV7fQlWNTYZg",
        "colab": {
          "base_uri": "https://localhost:8080/"
        },
        "outputId": "f6b3f2a1-a7c4-4520-c3ec-61970d8dea42"
      },
      "execution_count": 46,
      "outputs": [
        {
          "output_type": "stream",
          "name": "stdout",
          "text": [
            "Digite um valor:1\n",
            "Digite um valor:2\n",
            "Digite um valor:3\n",
            "Digite um valor:4\n",
            "Digite um valor:5\n",
            "Digite um valor:6\n",
            "Digite um valor:7\n",
            "Digite um valor:8\n",
            "Digite um valor:9\n",
            "Digite um valor:10\n",
            "Valor da soma:  55.0\n"
          ]
        }
      ]
    },
    {
      "cell_type": "markdown",
      "source": [
        "Exercício 6"
      ],
      "metadata": {
        "id": "K0IDdiivTqax"
      }
    },
    {
      "cell_type": "code",
      "source": [
        "soma = 0\n",
        "for n in range(0,10,1):\n",
        "    x = int(input(\"Digite um valor inteiro:\"))\n",
        "    soma = x + soma\n",
        "media=soma/10\n",
        "print(\"Valor da média: \",media)"
      ],
      "metadata": {
        "id": "DSmZ3vuTTtA4",
        "colab": {
          "base_uri": "https://localhost:8080/"
        },
        "outputId": "d1ca58f0-6b4c-4149-e10c-187d7ccc2ce6"
      },
      "execution_count": 19,
      "outputs": [
        {
          "output_type": "stream",
          "name": "stdout",
          "text": [
            "Digite um valor inteiro:1\n",
            "Digite um valor inteiro:2\n",
            "Digite um valor inteiro:3\n",
            "Digite um valor inteiro:4\n",
            "Digite um valor inteiro:5\n",
            "Digite um valor inteiro:6\n",
            "Digite um valor inteiro:7\n",
            "Digite um valor inteiro:8\n",
            "Digite um valor inteiro:9\n",
            "Digite um valor inteiro:10\n",
            "Valor da média:  5.5\n"
          ]
        }
      ]
    },
    {
      "cell_type": "markdown",
      "source": [
        "Exercício 7"
      ],
      "metadata": {
        "id": "owMQ3GVpFvmC"
      }
    },
    {
      "cell_type": "code",
      "source": [
        "soma=0\n",
        "cont=0\n",
        "for n in range(0,10,1):\n",
        "  num=float(input(\"Digite um número:\"))\n",
        "  if(num>=0):\n",
        "    soma=soma+num\n",
        "    cont+=1\n",
        "media=soma/cont\n",
        "print(\"A média dos números positivos digitados: \",media)"
      ],
      "metadata": {
        "colab": {
          "base_uri": "https://localhost:8080/"
        },
        "id": "41pAivRxFyHd",
        "outputId": "7cf6b944-d295-4c1e-bab4-f4eb279752b7"
      },
      "execution_count": 32,
      "outputs": [
        {
          "output_type": "stream",
          "name": "stdout",
          "text": [
            "Digite um número:1\n",
            "Digite um número:2\n",
            "Digite um número:3\n",
            "Digite um número:-1\n",
            "Digite um número:2\n",
            "Digite um número:4\n",
            "Digite um número:5\n",
            "Digite um número:6\n",
            "Digite um número:7\n",
            "Digite um número:8\n",
            "A média dos números positivos digitados:  4.222222222222222\n"
          ]
        }
      ]
    },
    {
      "cell_type": "markdown",
      "source": [
        "Exercício 8"
      ],
      "metadata": {
        "id": "jzR-m1PK31gc"
      }
    },
    {
      "cell_type": "code",
      "source": [
        "num=float(input(\"Digite um número:\"))\n",
        "maior=num\n",
        "menor=num\n",
        "for n in range(1,10,1):\n",
        "  num=float(input(\"Digite um número:\"))\n",
        "  if(num<num_menor):\n",
        "    menor=num\n",
        "  if(num>maior):\n",
        "    maior=num\n",
        "print(\"O menor número digitado foi: \",menor)\n",
        "print(\"O maior número digitado foi: \",maior)\n"
      ],
      "metadata": {
        "colab": {
          "base_uri": "https://localhost:8080/"
        },
        "id": "ypyzAZ-u34Xx",
        "outputId": "b7dc091e-911d-4250-c11d-b6e9e648a2ca"
      },
      "execution_count": 31,
      "outputs": [
        {
          "output_type": "stream",
          "name": "stdout",
          "text": [
            "Digite um número:1\n",
            "Digite um número:2\n",
            "Digite um número:3\n",
            "Digite um número:4\n",
            "Digite um número:5\n",
            "Digite um número:6\n",
            "Digite um número:7\n",
            "Digite um número:8\n",
            "Digite um número:9\n",
            "Digite um número:10\n",
            "O menor número digitado foi:  1.0\n",
            "O maior número digitado foi:  10.0\n"
          ]
        }
      ]
    },
    {
      "cell_type": "markdown",
      "source": [
        "Exercício 9"
      ],
      "metadata": {
        "id": "wf6grka02kPW"
      }
    },
    {
      "cell_type": "code",
      "source": [
        "num = int(input(\"Digite um número inteiro:\"))\n",
        "cont=0\n",
        "for n in range(0,num+1,1):\n",
        "  if(n%2!=0):\n",
        "    print(\"\",n)"
      ],
      "metadata": {
        "colab": {
          "base_uri": "https://localhost:8080/"
        },
        "id": "S53E1OD42nQs",
        "outputId": "ef7f265e-df1c-49c5-e7fc-bec86fbf53f8"
      },
      "execution_count": 23,
      "outputs": [
        {
          "output_type": "stream",
          "name": "stdout",
          "text": [
            "Digite um número inteiro:21\n",
            " 1\n",
            " 3\n",
            " 5\n",
            " 7\n",
            " 9\n",
            " 11\n",
            " 13\n",
            " 15\n",
            " 17\n",
            " 19\n",
            " 21\n"
          ]
        }
      ]
    },
    {
      "cell_type": "markdown",
      "source": [
        "Exercício 10"
      ],
      "metadata": {
        "id": "XPKlK_tnUp3Y"
      }
    },
    {
      "cell_type": "code",
      "source": [
        "num = 0\n",
        "soma=0\n",
        "cont=0\n",
        "for n in range(0,120,1):\n",
        "  if(n%2==0):\n",
        "    soma=soma+n\n",
        "    print(\"\",soma)\n",
        "    cont+=1\n",
        "    if(cont>50):\n",
        "      break\n",
        "print(\"A soma dos números: \",soma)"
      ],
      "metadata": {
        "colab": {
          "base_uri": "https://localhost:8080/"
        },
        "id": "P-y8fgNjUr2o",
        "outputId": "f7491a56-da76-46ee-80d7-cf47e88d4f8b"
      },
      "execution_count": 16,
      "outputs": [
        {
          "output_type": "stream",
          "name": "stdout",
          "text": [
            " 0\n",
            " 2\n",
            " 6\n",
            " 12\n",
            " 20\n",
            " 30\n",
            " 42\n",
            " 56\n",
            " 72\n",
            " 90\n",
            " 110\n",
            " 132\n",
            " 156\n",
            " 182\n",
            " 210\n",
            " 240\n",
            " 272\n",
            " 306\n",
            " 342\n",
            " 380\n",
            " 420\n",
            " 462\n",
            " 506\n",
            " 552\n",
            " 600\n",
            " 650\n",
            " 702\n",
            " 756\n",
            " 812\n",
            " 870\n",
            " 930\n",
            " 992\n",
            " 1056\n",
            " 1122\n",
            " 1190\n",
            " 1260\n",
            " 1332\n",
            " 1406\n",
            " 1482\n",
            " 1560\n",
            " 1640\n",
            " 1722\n",
            " 1806\n",
            " 1892\n",
            " 1980\n",
            " 2070\n",
            " 2162\n",
            " 2256\n",
            " 2352\n",
            " 2450\n",
            " 2550\n",
            "A soma dos números:  2550\n"
          ]
        }
      ]
    },
    {
      "cell_type": "markdown",
      "source": [
        "Exercício 11"
      ],
      "metadata": {
        "id": "NWt386HgT5h3"
      }
    },
    {
      "cell_type": "code",
      "source": [
        "num = int(input(\"Digite o valor de um número inteiro:\"))\n",
        "cont=0\n",
        "while(cont<=num):\n",
        "    print(cont)\n",
        "    cont+=1"
      ],
      "metadata": {
        "id": "j1GPoOQ4T17Z",
        "colab": {
          "base_uri": "https://localhost:8080/"
        },
        "outputId": "458b9c77-f462-4bf9-b308-20df3ab1c862"
      },
      "execution_count": 48,
      "outputs": [
        {
          "output_type": "stream",
          "name": "stdout",
          "text": [
            "Digite o valor de um número inteiro:15\n",
            "0\n",
            "1\n",
            "2\n",
            "3\n",
            "4\n",
            "5\n",
            "6\n",
            "7\n",
            "8\n",
            "9\n",
            "10\n",
            "11\n",
            "12\n",
            "13\n",
            "14\n",
            "15\n"
          ]
        }
      ]
    },
    {
      "cell_type": "markdown",
      "source": [
        "Exercício 12"
      ],
      "metadata": {
        "id": "pxr04qv1US3_"
      }
    },
    {
      "cell_type": "code",
      "source": [
        "num = int(input(\"Digite o valor de um número inteiro:\"))\n",
        "cont=0\n",
        "while(num>=cont):\n",
        "    print(num)\n",
        "    num-=1"
      ],
      "metadata": {
        "id": "TunPkGWwT5Lw"
      },
      "execution_count": null,
      "outputs": []
    },
    {
      "cell_type": "markdown",
      "source": [
        "Exercício 13\n",
        "\n"
      ],
      "metadata": {
        "id": "1ZGZA_vkZAt4"
      }
    },
    {
      "cell_type": "code",
      "source": [
        "num = int(input(\"Digite o valor de um número inteiro par:\"))\n",
        "cont=0\n",
        "while(cont<=num):\n",
        "    if(cont%2==0):\n",
        "        print(cont)\n",
        "    cont+=1"
      ],
      "metadata": {
        "id": "aQo9Wr_yZJxP",
        "colab": {
          "base_uri": "https://localhost:8080/"
        },
        "outputId": "5d2c7441-49fc-422c-812d-e74cbab6eca3"
      },
      "execution_count": 50,
      "outputs": [
        {
          "output_type": "stream",
          "name": "stdout",
          "text": [
            "Digite o valor de um número inteiro par:20\n",
            "0\n",
            "2\n",
            "4\n",
            "6\n",
            "8\n",
            "10\n",
            "12\n",
            "14\n",
            "16\n",
            "18\n",
            "20\n"
          ]
        }
      ]
    },
    {
      "cell_type": "markdown",
      "source": [
        "Exercício 14"
      ],
      "metadata": {
        "id": "0M3LTn1PZA5E"
      }
    },
    {
      "cell_type": "code",
      "source": [
        "num = int(input(\"Digite o valor de um número inteiro par:\"))\n",
        "cont=0\n",
        "while(num>=cont):\n",
        "    if(num%2==0):\n",
        "        print(num)\n",
        "    num-=1"
      ],
      "metadata": {
        "id": "kTBref4BZKfU",
        "colab": {
          "base_uri": "https://localhost:8080/"
        },
        "outputId": "6fb8d1f3-0508-4f76-88c0-aa4bdb84b807"
      },
      "execution_count": 52,
      "outputs": [
        {
          "output_type": "stream",
          "name": "stdout",
          "text": [
            "Digite o valor de um número inteiro par:20\n",
            "20\n",
            "18\n",
            "16\n",
            "14\n",
            "12\n",
            "10\n",
            "8\n",
            "6\n",
            "4\n",
            "2\n",
            "0\n"
          ]
        }
      ]
    },
    {
      "cell_type": "markdown",
      "source": [
        "Exercício 15"
      ],
      "metadata": {
        "id": "KpByu8FKZLYV"
      }
    },
    {
      "cell_type": "code",
      "source": [
        "num = int(input(\"Digite o valor de um número inteiro ímpar:\"))\n",
        "cont=0\n",
        "while(cont<=num):\n",
        "    if(cont%2!=0):\n",
        "        print(cont)\n",
        "    cont+=1"
      ],
      "metadata": {
        "colab": {
          "base_uri": "https://localhost:8080/"
        },
        "id": "D3f99ochZNj7",
        "outputId": "c301f67c-df52-434e-c81d-a8e30966e412"
      },
      "execution_count": null,
      "outputs": [
        {
          "output_type": "stream",
          "name": "stdout",
          "text": [
            "Digite o valor de um número inteiro ímpar:15\n",
            "1\n",
            "3\n",
            "5\n",
            "7\n",
            "9\n",
            "11\n",
            "13\n",
            "15\n"
          ]
        }
      ]
    },
    {
      "cell_type": "markdown",
      "source": [
        "Exercício 16"
      ],
      "metadata": {
        "id": "G_Fqd0u8ZOHu"
      }
    },
    {
      "cell_type": "code",
      "source": [
        "num = int(input(\"Digite o valor de um número inteiro ímpar:\"))\n",
        "cont=0\n",
        "while(num>=cont):\n",
        "    if(num%2!=0):\n",
        "        print(num)\n",
        "    num-=1"
      ],
      "metadata": {
        "colab": {
          "base_uri": "https://localhost:8080/"
        },
        "id": "5PH3L6BEZRqr",
        "outputId": "00d1d6d7-9fa3-455e-e285-848902607bfe"
      },
      "execution_count": null,
      "outputs": [
        {
          "output_type": "stream",
          "name": "stdout",
          "text": [
            "Digite o valor de um número inteiro ímpar:15\n",
            "15\n",
            "13\n",
            "11\n",
            "9\n",
            "7\n",
            "5\n",
            "3\n",
            "1\n"
          ]
        }
      ]
    },
    {
      "cell_type": "markdown",
      "source": [
        "Exercício 27\n"
      ],
      "metadata": {
        "id": "WhTZK6qbMTMr"
      }
    },
    {
      "cell_type": "code",
      "source": [
        "soma=0\n",
        "div=1\n",
        "x=int(input(\"digite um valor inteiro para H(n):\"))\n",
        "for n in range(1,x+1,1):\n",
        "  aux=1/n\n",
        "  soma=soma+aux\n",
        "print(\"O valor de H(n) é: \",soma)\n"
      ],
      "metadata": {
        "colab": {
          "base_uri": "https://localhost:8080/"
        },
        "id": "c3C6QrilJrvJ",
        "outputId": "e3126629-a93c-40bf-f0d2-0b5b55cb6f29"
      },
      "execution_count": 57,
      "outputs": [
        {
          "output_type": "stream",
          "name": "stdout",
          "text": [
            "digite um valor inteiro para H(n):10\n",
            "O valor de H(n) é:  2.9289682539682538\n"
          ]
        }
      ]
    },
    {
      "cell_type": "markdown",
      "source": [
        "Exercício 28"
      ],
      "metadata": {
        "id": "dhxhSbiiOpQF"
      }
    },
    {
      "cell_type": "code",
      "source": [
        "x=int(input(\"Digite um número:\"))\n",
        "fat=math.factorial(x)\n",
        "print(\"Fatorial:\",fat)"
      ],
      "metadata": {
        "colab": {
          "base_uri": "https://localhost:8080/"
        },
        "id": "ZHlSC3ukOxw4",
        "outputId": "f86847ac-3ab4-4d1b-c733-4486a4a7a7a3"
      },
      "execution_count": 63,
      "outputs": [
        {
          "output_type": "stream",
          "name": "stdout",
          "text": [
            "Digite um número:5\n",
            "Fatorial: 120\n"
          ]
        }
      ]
    },
    {
      "cell_type": "markdown",
      "source": [
        "Exercício 31"
      ],
      "metadata": {
        "id": "ELpa6sCoJFxe"
      }
    },
    {
      "cell_type": "code",
      "source": [
        "soma=0\n",
        "div=1\n",
        "for n in range(1,100,2):\n",
        "  aux=n/div\n",
        "  soma=soma+aux\n",
        "  div+=1\n",
        "print(\"O valor de S é: \",soma)\n"
      ],
      "metadata": {
        "colab": {
          "base_uri": "https://localhost:8080/"
        },
        "id": "acV3SpcnJFLG",
        "outputId": "043106e2-5daf-4b9b-9a87-b5ecc9a3038f"
      },
      "execution_count": 53,
      "outputs": [
        {
          "output_type": "stream",
          "name": "stdout",
          "text": [
            "O valor de S é:  95.5007946616706\n"
          ]
        }
      ]
    }
  ]
}