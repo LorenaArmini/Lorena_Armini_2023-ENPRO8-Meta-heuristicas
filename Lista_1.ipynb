{
  "nbformat": 4,
  "nbformat_minor": 0,
  "metadata": {
    "colab": {
      "provenance": []
    },
    "kernelspec": {
      "name": "python3",
      "display_name": "Python 3"
    },
    "language_info": {
      "name": "python"
    }
  },
  "cells": [
    {
      "cell_type": "markdown",
      "source": [
        "**Lista 1**"
      ],
      "metadata": {
        "id": "YoT2xDWvaLZ_"
      }
    },
    {
      "cell_type": "markdown",
      "source": [
        "Exercício 1"
      ],
      "metadata": {
        "id": "OZ-NEVakaLS5"
      }
    },
    {
      "cell_type": "code",
      "source": [
        "#Exercício 1 - Leia um número inteiro\n",
        "print(\"Digite um número inteiro\")\n",
        "x = int(input())\n",
        "print(\"Número digitado foi: \", x)"
      ],
      "metadata": {
        "colab": {
          "base_uri": "https://localhost:8080/"
        },
        "id": "qOQnjalsagDF",
        "outputId": "44a18914-9837-4c00-f05b-4d6fa19c8a09"
      },
      "execution_count": null,
      "outputs": [
        {
          "output_type": "stream",
          "name": "stdout",
          "text": [
            "Digite um número inteiro\n",
            "1000\n",
            "Número digitado foi:  1000\n"
          ]
        }
      ]
    },
    {
      "cell_type": "markdown",
      "source": [
        "Exercício 2"
      ],
      "metadata": {
        "id": "2CQFyVMNaLPX"
      }
    },
    {
      "cell_type": "code",
      "source": [
        "#Exercício 2 - Leia um número real\n",
        "print(\"Digite um número real\")\n",
        "x = float(input())\n",
        "print(\"Número digitado foi: \", x)"
      ],
      "metadata": {
        "colab": {
          "base_uri": "https://localhost:8080/"
        },
        "id": "1HbjCZTaagcn",
        "outputId": "31a3aea3-1c53-4f15-ceee-587196bb74f7"
      },
      "execution_count": null,
      "outputs": [
        {
          "output_type": "stream",
          "name": "stdout",
          "text": [
            "Digite um número real\n",
            "129.90\n",
            "Número digitado foi:  129.9\n"
          ]
        }
      ]
    },
    {
      "cell_type": "markdown",
      "source": [
        "Exercício 3"
      ],
      "metadata": {
        "id": "Z9uilFoYaLIl"
      }
    },
    {
      "cell_type": "code",
      "source": [
        "#Soma de valores\n",
        "print(\"Digite um número inteiro\")\n",
        "num_1 = int(input())\n",
        "print(\"Digite um número inteiro\")\n",
        "num_2 = int(input())\n",
        "print(\"Digite um número inteiro\")\n",
        "num_3 = int(input())\n",
        "soma = num_1+num_2+num_3\n",
        "print(\"A soma é igual a: \", soma)"
      ],
      "metadata": {
        "colab": {
          "base_uri": "https://localhost:8080/"
        },
        "id": "5sqJHK4IahHs",
        "outputId": "e4f2b0bf-19ef-419b-9679-6520c961c108"
      },
      "execution_count": null,
      "outputs": [
        {
          "output_type": "stream",
          "name": "stdout",
          "text": [
            "Digite um número inteiro\n",
            "10\n",
            "Digite um número inteiro\n",
            "20\n",
            "Digite um número inteiro\n",
            "30\n",
            "A soma é igual a:  60\n"
          ]
        }
      ]
    },
    {
      "cell_type": "markdown",
      "source": [
        "Exercício 4"
      ],
      "metadata": {
        "id": "XFCFjvKaaLCE"
      }
    },
    {
      "cell_type": "code",
      "source": [
        "#Quadrado do número\n",
        "print(\"Digite um número real\")\n",
        "real = float(input())\n",
        "print(\"Quadrado do número = \", real**2)"
      ],
      "metadata": {
        "colab": {
          "base_uri": "https://localhost:8080/"
        },
        "id": "bHq8xDoJah0x",
        "outputId": "04512704-02fd-4f60-d77d-43b6c9a31183"
      },
      "execution_count": null,
      "outputs": [
        {
          "output_type": "stream",
          "name": "stdout",
          "text": [
            "Digite um número real\n",
            "12\n",
            "Quadrado do número =  144.0\n"
          ]
        }
      ]
    },
    {
      "cell_type": "markdown",
      "source": [
        "Exercício 5)a)"
      ],
      "metadata": {
        "id": "6YQAY56saK3H"
      }
    },
    {
      "cell_type": "code",
      "source": [
        "#Exercício 5)a)\n",
        "print(\"Digite a temperatura em Celsius:\")\n",
        "celsius = float(input())\n",
        "print(\"A temperatura em Kelvin é: \",celsius+273.15,\"K\")"
      ],
      "metadata": {
        "colab": {
          "base_uri": "https://localhost:8080/"
        },
        "id": "3qNQUK4Fai1r",
        "outputId": "ba16eb7b-2c46-4acf-df8f-afc1c072351f"
      },
      "execution_count": null,
      "outputs": [
        {
          "output_type": "stream",
          "name": "stdout",
          "text": [
            "Digite a temperatura em Celsius:\n",
            "30\n",
            "A temperatura em Kelvin é:  303.15 K\n"
          ]
        }
      ]
    },
    {
      "cell_type": "markdown",
      "source": [
        "Exercício 5)b)"
      ],
      "metadata": {
        "id": "OJe8iLXka7Tf"
      }
    },
    {
      "cell_type": "code",
      "source": [
        "#Exercício 5)b)\n",
        "print(\"Digite a temperatura em Kelvin:\")\n",
        "kelvin = float(input())\n",
        "print(\"A temperatura em celsius é: \",kelvin-273.15,\"ºC\")"
      ],
      "metadata": {
        "colab": {
          "base_uri": "https://localhost:8080/"
        },
        "id": "jYHR04eEa745",
        "outputId": "c3cf3ca6-a03f-45dd-862a-4ba3467d3f2f"
      },
      "execution_count": null,
      "outputs": [
        {
          "output_type": "stream",
          "name": "stdout",
          "text": [
            "Digite a temperatura em Kelvin:\n",
            "300\n",
            "A temperatura em celsius é:  26.850000000000023 ºC\n"
          ]
        }
      ]
    },
    {
      "cell_type": "markdown",
      "source": [
        "Exercício 6)a)"
      ],
      "metadata": {
        "id": "nmLSHR_TaKoC"
      }
    },
    {
      "cell_type": "code",
      "source": [
        "#Exercício 6)a)\n",
        "print(\"Digite a temperatura em Fahrenheit:\")\n",
        "temp = float(input())\n",
        "celsius = 5.0*((temp-32.0)/9.0)\n",
        "print(\"A temperatura em celsius = \",celsius)"
      ],
      "metadata": {
        "colab": {
          "base_uri": "https://localhost:8080/"
        },
        "id": "70flQs19ajPo",
        "outputId": "d0793978-9f89-4538-eb41-f716ba5296bc"
      },
      "execution_count": null,
      "outputs": [
        {
          "output_type": "stream",
          "name": "stdout",
          "text": [
            "Digite a temperatura em Fahrenheit:\n",
            "94\n",
            "A temperatura em celsius =  34.44444444444444\n"
          ]
        }
      ]
    },
    {
      "cell_type": "markdown",
      "source": [
        "Exercício 6)b)"
      ],
      "metadata": {
        "id": "ylVkItuebAdL"
      }
    },
    {
      "cell_type": "code",
      "source": [
        "#Exercício 6)b)\n",
        "print(\"Digite a temperatura em celsius:\")\n",
        "temp = float(input())\n",
        "f = ((temp*9.0)/5.0)+32.0\n",
        "print(\"A temperatura em Fahrenheit = \",f)"
      ],
      "metadata": {
        "colab": {
          "base_uri": "https://localhost:8080/"
        },
        "id": "UYxsh1ISa_3j",
        "outputId": "d3bfe5b4-8132-4ba8-e772-f25ec510e894"
      },
      "execution_count": null,
      "outputs": [
        {
          "output_type": "stream",
          "name": "stdout",
          "text": [
            "Digite a temperatura em celsius:\n",
            "30\n",
            "A temperatura em Fahrenheit =  86.0\n"
          ]
        }
      ]
    },
    {
      "cell_type": "markdown",
      "source": [
        "Exercício 7"
      ],
      "metadata": {
        "id": "-DISt4hwSCkM"
      }
    },
    {
      "cell_type": "code",
      "execution_count": null,
      "metadata": {
        "id": "JRmPqNabRL1K",
        "colab": {
          "base_uri": "https://localhost:8080/"
        },
        "outputId": "2d787650-e7f1-4016-f68b-197542a5a4a1"
      },
      "outputs": [
        {
          "output_type": "stream",
          "name": "stdout",
          "text": [
            "Digite a velocidade em km/h:\n",
            "60\n",
            "A velocidade em m/s é:  16.666666666666668 m/s\n"
          ]
        }
      ],
      "source": [
        "#Converter velocidade\n",
        "print(\"Digite a velocidade em km/h:\")\n",
        "k=float(input())\n",
        "print(\"A velocidade em m/s é: \",k/3.6,\"m/s\")"
      ]
    },
    {
      "cell_type": "markdown",
      "source": [
        "Exercício 8"
      ],
      "metadata": {
        "id": "0WQ6t-KTRM1d"
      }
    },
    {
      "cell_type": "code",
      "source": [
        "#Converter um ângulo para radianos\n",
        "print(\"Digite o ângulo em graus:\")\n",
        "g=float(input())\n",
        "pi = 3.14159265359\n",
        "rad = (g*pi)/180.0\n",
        "print(\"O ângulo em radianos: %.2f\" %rad, \"radianos\")"
      ],
      "metadata": {
        "colab": {
          "base_uri": "https://localhost:8080/"
        },
        "id": "eH4zeWPuUNGm",
        "outputId": "2e6b2b2c-c2cd-4612-ac01-3d663833f589"
      },
      "execution_count": null,
      "outputs": [
        {
          "output_type": "stream",
          "name": "stdout",
          "text": [
            "Digite o ângulo em graus:\n",
            "90\n",
            "O ângulo em radianos: 1.57 radianos\n"
          ]
        }
      ]
    },
    {
      "cell_type": "markdown",
      "source": [
        "Exercício 9"
      ],
      "metadata": {
        "id": "CAhRpUxfTizh"
      }
    },
    {
      "cell_type": "code",
      "source": [
        "#Média de um aluno\n",
        "print(\"Digite nota 1:\")\n",
        "nota_1 = float(input())\n",
        "print(\"Digite nota 2:\")\n",
        "nota_2 = float(input())\n",
        "print(\"Digite nota 3:\")\n",
        "nota_3 = float(input())\n",
        "print(\"Digite nota 4:\")\n",
        "nota_4 = float(input())\n",
        "media=(nota_1+nota_2+nota_3+nota_4)/4.0\n",
        "print(\"A média do aluno foi: \",media)"
      ],
      "metadata": {
        "colab": {
          "base_uri": "https://localhost:8080/"
        },
        "id": "uf-ptUvaUOvL",
        "outputId": "42d46553-5cb4-4203-b4f5-89b1df860028"
      },
      "execution_count": null,
      "outputs": [
        {
          "output_type": "stream",
          "name": "stdout",
          "text": [
            "Digite nota 1:\n",
            "6.5\n",
            "Digite nota 2:\n",
            "7.5\n",
            "Digite nota 3:\n",
            "9.4\n",
            "Digite nota 4:\n",
            "9.8\n",
            "A média do aluno foi:  8.3\n"
          ]
        }
      ]
    },
    {
      "cell_type": "markdown",
      "source": [
        "Exercício 10"
      ],
      "metadata": {
        "id": "ka9KLoj3Tle_"
      }
    },
    {
      "cell_type": "code",
      "source": [
        "#Converter para dolar\n",
        "print(\"Digite o valor em real:\")\n",
        "real=float(input())\n",
        "print(\"Digite a cotação do dolar:\")\n",
        "c=float(input())\n",
        "print(\"Valor da conversão em dolar: $\",real/c)"
      ],
      "metadata": {
        "colab": {
          "base_uri": "https://localhost:8080/"
        },
        "id": "Rx__qNmlUVAr",
        "outputId": "05952587-8ca3-4259-c1d5-9da6700342ac"
      },
      "execution_count": null,
      "outputs": [
        {
          "output_type": "stream",
          "name": "stdout",
          "text": [
            "Digite o valor em real:\n",
            "100\n",
            "Digite a cotação do dolar:\n",
            "5.94\n",
            "Valor da conversão em dolar: $ 16.835016835016834\n"
          ]
        }
      ]
    },
    {
      "cell_type": "markdown",
      "source": [
        "Exercício 11"
      ],
      "metadata": {
        "id": "fyxVrTp1Tmws"
      }
    },
    {
      "cell_type": "code",
      "source": [
        "#Encanador\n",
        "taxa_fixa = 80.00\n",
        "print(\"Quantos dias de trabalho:\")\n",
        "dias=float(input())\n",
        "trabalho=55.00*dias\n",
        "print(\"O encanador vai receber: R$\",(taxa_fixa+trabalho))"
      ],
      "metadata": {
        "colab": {
          "base_uri": "https://localhost:8080/"
        },
        "id": "X9xUP0I-UWKu",
        "outputId": "ddf1e6e2-0133-48a8-bd76-d040df31689a"
      },
      "execution_count": null,
      "outputs": [
        {
          "output_type": "stream",
          "name": "stdout",
          "text": [
            "Quantos dias de trabalho:\n",
            "30\n",
            "O encanador vai receber: R$ 1730.0\n"
          ]
        }
      ]
    },
    {
      "cell_type": "markdown",
      "source": [
        "Exercício 12"
      ],
      "metadata": {
        "id": "ExN8MjuVToAO"
      }
    },
    {
      "cell_type": "code",
      "source": [
        "#Valor com desconto de um produto\n",
        "print(\"Digite o valor do produto:\")\n",
        "produto=float(input())\n",
        "print(\"O valor do produto com desconto: R$\", produto*(1-0.12))"
      ],
      "metadata": {
        "colab": {
          "base_uri": "https://localhost:8080/"
        },
        "id": "vF8kdkp5UWoq",
        "outputId": "8a70a983-a243-449c-ff4b-be678e38d8f8"
      },
      "execution_count": null,
      "outputs": [
        {
          "output_type": "stream",
          "name": "stdout",
          "text": [
            "Digite o valor do produto:\n",
            "1200\n",
            "O valor do produto com desconto: R$ 1056.0\n"
          ]
        }
      ]
    },
    {
      "cell_type": "markdown",
      "source": [
        "Exercício 13"
      ],
      "metadata": {
        "id": "tuJptgIOTpas"
      }
    },
    {
      "cell_type": "code",
      "source": [
        "#Salário de um funcionário\n",
        "print(\"Digite o salário do funcionário:\")\n",
        "salario=float(input())\n",
        "print(\"O salário com aumento é:\",salario+(salario*0.25))"
      ],
      "metadata": {
        "colab": {
          "base_uri": "https://localhost:8080/"
        },
        "id": "-2nZ8RYKUXoq",
        "outputId": "d26a6f48-5644-467e-b12e-e4772128bfc4"
      },
      "execution_count": null,
      "outputs": [
        {
          "output_type": "stream",
          "name": "stdout",
          "text": [
            "Digite o salário do funcionário:\n",
            "3700\n",
            "O salário com aumento é: 4625.0\n"
          ]
        }
      ]
    },
    {
      "cell_type": "markdown",
      "source": [
        "Exercício 14"
      ],
      "metadata": {
        "id": "4Hh5zlAdTrMb"
      }
    },
    {
      "cell_type": "code",
      "source": [
        "print(\"premio = 780000.00\")\n",
        "premio = 780000.00\n",
        "ganhador_1 = 0.46 * premio\n",
        "ganhador_2 = 0.38 * premio\n",
        "ganhador_3 = premio - ganhador_1 - ganhador_2\n",
        "\n",
        "print(\"O ganhador 1 irá ganhar: R$\", ganhador_1)\n",
        "print(\"O ganhador 2 irá ganhar: R$\", ganhador_2)\n",
        "print(\"O ganhador 3 irá ganhar: R$\", ganhador_3)"
      ],
      "metadata": {
        "colab": {
          "base_uri": "https://localhost:8080/"
        },
        "id": "brfp9DVlUYqt",
        "outputId": "9806d1ba-0ade-47f4-ea9c-45bc7ed6398c"
      },
      "execution_count": null,
      "outputs": [
        {
          "output_type": "stream",
          "name": "stdout",
          "text": [
            "premio = 780000.00\n",
            "O ganhador 1 irá ganhar: R$ 358800.0\n",
            "O ganhador 2 irá ganhar: R$ 296400.0\n",
            "O ganhador 3 irá ganhar: R$ 124800.0\n"
          ]
        }
      ]
    },
    {
      "cell_type": "markdown",
      "source": [
        "Exercício 15"
      ],
      "metadata": {
        "id": "OzAZ6NJ5Tsj2"
      }
    },
    {
      "cell_type": "code",
      "source": [
        "#Calcular salário a receber de um funcionário\n",
        "print(\"Digite o salário-base do funcionário:\")\n",
        "base=float(input())\n",
        "salario=base+(base*0.05)-(base*0.07)\n",
        "print(\"Salário a receber: R$\",salario)"
      ],
      "metadata": {
        "colab": {
          "base_uri": "https://localhost:8080/"
        },
        "id": "156d-xOOUjmr",
        "outputId": "9ea2c95c-5153-4149-e163-1fe37f947491"
      },
      "execution_count": null,
      "outputs": [
        {
          "output_type": "stream",
          "name": "stdout",
          "text": [
            "Digite o salário-base do funcionário:\n",
            "5000\n",
            "Salário a receber: R$ 4900.0\n"
          ]
        }
      ]
    },
    {
      "cell_type": "markdown",
      "source": [
        "Exercício 16"
      ],
      "metadata": {
        "id": "aFgdK9fuTt36"
      }
    },
    {
      "cell_type": "code",
      "source": [
        "#Vendedores\n",
        "print(\"Digite o valor total:\")\n",
        "total = float(input())\n",
        "desconto=total*0.90\n",
        "print(\"Valor com 10% de desconto: R$\",desconto)\n",
        "parcela=total/3.00\n",
        "print(\"Valor da parcela: R$\", parcela)\n",
        "a_vista=desconto*0.05\n",
        "print(\"Comissão do vendendor para vendas à vista: R$\",a_vista)\n",
        "venda_parcelada=total*0.05\n",
        "print(\"Comissão do vendendor para vendas parceladas: R$\", venda_parcelada)"
      ],
      "metadata": {
        "colab": {
          "base_uri": "https://localhost:8080/"
        },
        "id": "ZrzSIUWMUjJQ",
        "outputId": "0fedba34-c7cc-4b67-fc12-f05bd7981960"
      },
      "execution_count": null,
      "outputs": [
        {
          "output_type": "stream",
          "name": "stdout",
          "text": [
            "Digite o valor total:\n",
            "1200\n",
            "Valor com 10% de desconto: R$ 1080.0\n",
            "Valor da parcela: R$ 400.0\n",
            "Comissão do vendendor para vendas à vista: R$ 54.0\n",
            "Comissão do vendendor para vendas parceladas: R$ 60.0\n"
          ]
        }
      ]
    },
    {
      "cell_type": "markdown",
      "source": [
        "Exercício 17"
      ],
      "metadata": {
        "id": "z5vDZ0hxTvLv"
      }
    },
    {
      "cell_type": "code",
      "source": [
        "#Parâmetros de um quadrado\n",
        "print(\"Digite o tamanho dos lados do quadrado:\")\n",
        "lado=float(input())\n",
        "diagonal = lado*(2**(1/2))\n",
        "print(\"Área: \",lado**2)\n",
        "print(\"Perímetro: \",lado*4)\n",
        "print(\"Diagonal: \", diagonal)"
      ],
      "metadata": {
        "colab": {
          "base_uri": "https://localhost:8080/"
        },
        "id": "g2W-w5HFUi0L",
        "outputId": "e9840c01-28bf-44ed-8377-14cf9390e00c"
      },
      "execution_count": null,
      "outputs": [
        {
          "output_type": "stream",
          "name": "stdout",
          "text": [
            "Digite o tamanho dos lados do quadrado:\n",
            "4\n",
            "Área:  16.0\n",
            "Perímetro:  16.0\n",
            "Diagonal:  5.656854249492381\n"
          ]
        }
      ]
    },
    {
      "cell_type": "markdown",
      "source": [
        "Exercício 18"
      ],
      "metadata": {
        "id": "J8tqycUSTweg"
      }
    },
    {
      "cell_type": "code",
      "source": [
        "#Circunferência\n",
        "print(\"Digite o raio da circunferência:\")\n",
        "raio = float(input())\n",
        "pi = 3.14159265359\n",
        "area = pi *(raio**2)\n",
        "c = 2*pi*raio\n",
        "print(\"A área da circunferência é: %.2f\"%area)\n",
        "print(\"O comprimento da circunferência é: %.2f\"%(c))"
      ],
      "metadata": {
        "colab": {
          "base_uri": "https://localhost:8080/"
        },
        "id": "pF0TiFTDUiXz",
        "outputId": "47ecc57c-4b28-47b6-b8cb-954920bb6596"
      },
      "execution_count": null,
      "outputs": [
        {
          "output_type": "stream",
          "name": "stdout",
          "text": [
            "Digite o raio da circunferência:\n",
            "5\n",
            "A área da circunferência é: 78.54\n",
            "O comprimento da circunferência é: 31.42\n"
          ]
        }
      ]
    },
    {
      "cell_type": "markdown",
      "source": [
        "Exercício 19"
      ],
      "metadata": {
        "id": "Z3M3JCbsTyiM"
      }
    },
    {
      "cell_type": "code",
      "source": [
        "#Paralelepípedo\n",
        "print(\"Digite um lado '1' do paralelepípedo:\")\n",
        "a = float(input())\n",
        "print(\"Digite um lado '2' do paralelepípedo:\")\n",
        "b = float(input())\n",
        "print(\"Digite um lado '3' do paralelepípedo:\")\n",
        "c = float(input())\n",
        "area = (2*a*b+2*b*c+2*a*c)\n",
        "volume = (a*b*c)\n",
        "print(\"A área total do paralelepípedo é: %.2f\"%area)\n",
        "print(\"O volume do paralelepípedo é: %.2f\"%volume)"
      ],
      "metadata": {
        "colab": {
          "base_uri": "https://localhost:8080/"
        },
        "id": "PsjWmBjuUiA4",
        "outputId": "646aa765-8fb5-4eed-f664-ee5b79e82b93"
      },
      "execution_count": null,
      "outputs": [
        {
          "output_type": "stream",
          "name": "stdout",
          "text": [
            "Digite um lado '1' do paralelepípedo:\n",
            "4\n",
            "Digite um lado '2' do paralelepípedo:\n",
            "5\n",
            "Digite um lado '3' do paralelepípedo:\n",
            "6\n",
            "A área total do paralelepípedo é: 148.00\n",
            "O volume do paralelepípedo é: 120.00\n"
          ]
        }
      ]
    },
    {
      "cell_type": "markdown",
      "source": [
        "Exercício 20"
      ],
      "metadata": {
        "id": "keGeaM-RTzso"
      }
    },
    {
      "cell_type": "code",
      "source": [
        "#Raiz Quadrada\n",
        "print(\"Digite um número real:\")\n",
        "real = float(input())\n",
        "raiz = real**(1/2)\n",
        "print(\"A raíz quadrada do número é: %.3f\"%raiz)"
      ],
      "metadata": {
        "colab": {
          "base_uri": "https://localhost:8080/"
        },
        "id": "erX6cYSvUZf3",
        "outputId": "352040ff-cf69-4830-dee5-7aedafb6d231"
      },
      "execution_count": null,
      "outputs": [
        {
          "output_type": "stream",
          "name": "stdout",
          "text": [
            "Digite um número real:\n",
            "144\n",
            "A raíz quadrada do número é: 12.000\n"
          ]
        }
      ]
    },
    {
      "cell_type": "markdown",
      "source": [
        "Exercício 21"
      ],
      "metadata": {
        "id": "YmxY4-bOT1Jf"
      }
    },
    {
      "cell_type": "code",
      "source": [
        "#Triângulo retângulo\n",
        "print(\"Digite o valor do cateto 1:\")\n",
        "a = float(input())\n",
        "print(\"Digite o valor do cateto 2:\")\n",
        "b = float(input())\n",
        "c = ((a**2)+(b**2))**(1/2)\n",
        "print(\"A hipotenusa do triângulo é: %.3f\"%c)"
      ],
      "metadata": {
        "colab": {
          "base_uri": "https://localhost:8080/"
        },
        "id": "InHEUec_Ud3b",
        "outputId": "e6d0fba4-7057-4567-df71-592f40dd4f7a"
      },
      "execution_count": null,
      "outputs": [
        {
          "output_type": "stream",
          "name": "stdout",
          "text": [
            "Digite o valor do cateto 1:\n",
            "3\n",
            "Digite o valor do cateto 2:\n",
            "4\n",
            "A hipotenusa do triângulo é: 5.000\n"
          ]
        }
      ]
    },
    {
      "cell_type": "markdown",
      "source": [
        "Exercício 22"
      ],
      "metadata": {
        "id": "oPoEnuwfUek9"
      }
    },
    {
      "cell_type": "code",
      "source": [
        "#Leia os lados a e b de um retângulo e imprima sua área, perímetro e tamanho da diagonal\n",
        "print(\"Digite um lado '1' do retângulo:\")\n",
        "a = float(input())\n",
        "print(\"Digite um lado '2' do retângulo:\")\n",
        "b = float(input())\n",
        "area = (a*b)\n",
        "perimetro = (2*a)+(2*b)\n",
        "diagonal = ((a**2)+(b**2))**(1/2)\n",
        "print(\"A área total do retângulo é: %.2f\"%area)\n",
        "print(\"O perímetro do retângulo é: %.2f\"%perimetro)\n",
        "print(\"A diagonal do retângulo é: %.2f\"%diagonal)"
      ],
      "metadata": {
        "colab": {
          "base_uri": "https://localhost:8080/"
        },
        "id": "yl6AxZVEUgfq",
        "outputId": "8e221252-f2bd-484f-b4a6-e0be6171b7e8"
      },
      "execution_count": null,
      "outputs": [
        {
          "output_type": "stream",
          "name": "stdout",
          "text": [
            "Digite um lado '1' do retângulo:\n",
            "10\n",
            "Digite um lado '2' do retângulo:\n",
            "20\n",
            "A área total do retângulo é: 200.00\n",
            "O perímetro do retângulo é: 60.00\n",
            "A diagonal do retângulo é: 22.36\n"
          ]
        }
      ]
    }
  ]
}